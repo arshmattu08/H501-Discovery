{
 "cells": [
  {
   "cell_type": "code",
   "execution_count": 1,
   "metadata": {},
   "outputs": [
    {
     "name": "stdout",
     "output_type": "stream",
     "text": [
      "Arsh\n",
      "Arsh\n",
      "Arsh\n",
      "Arsh\n",
      "Arsh\n"
     ]
    }
   ],
   "source": [
    "def name():\n",
    "    for el in range(5):\n",
    "        print(\"Arsh\")\n",
    "name()"
   ]
  }
 ],
 "metadata": {
  "kernelspec": {
   "display_name": "H501Discovery",
   "language": "python",
   "name": "python3"
  },
  "language_info": {
   "codemirror_mode": {
    "name": "ipython",
    "version": 3
   },
   "file_extension": ".py",
   "mimetype": "text/x-python",
   "name": "python",
   "nbconvert_exporter": "python",
   "pygments_lexer": "ipython3",
   "version": "3.11.9"
  }
 },
 "nbformat": 4,
 "nbformat_minor": 2
}
